{
 "cells": [
  {
   "cell_type": "code",
   "execution_count": 5,
   "metadata": {},
   "outputs": [
    {
     "data": {
      "text/html": [
       "<div>\n",
       "<style scoped>\n",
       "    .dataframe tbody tr th:only-of-type {\n",
       "        vertical-align: middle;\n",
       "    }\n",
       "\n",
       "    .dataframe tbody tr th {\n",
       "        vertical-align: top;\n",
       "    }\n",
       "\n",
       "    .dataframe thead th {\n",
       "        text-align: right;\n",
       "    }\n",
       "</style>\n",
       "<table border=\"1\" class=\"dataframe\">\n",
       "  <thead>\n",
       "    <tr style=\"text-align: right;\">\n",
       "      <th></th>\n",
       "      <th>VIN</th>\n",
       "      <th>County</th>\n",
       "      <th>City</th>\n",
       "      <th>ZIP</th>\n",
       "      <th>Model_Year</th>\n",
       "      <th>Make</th>\n",
       "      <th>Model</th>\n",
       "      <th>EV_Type</th>\n",
       "      <th>Range</th>\n",
       "      <th>MSRP</th>\n",
       "      <th>Location</th>\n",
       "      <th>Latitude</th>\n",
       "      <th>Longitude</th>\n",
       "      <th>North_South</th>\n",
       "      <th>West_East</th>\n",
       "    </tr>\n",
       "  </thead>\n",
       "  <tbody>\n",
       "    <tr>\n",
       "      <th>0</th>\n",
       "      <td>JA4J24A5XJ</td>\n",
       "      <td>King</td>\n",
       "      <td>KENT</td>\n",
       "      <td>98032</td>\n",
       "      <td>2018</td>\n",
       "      <td>MITSUBISHI</td>\n",
       "      <td>OUTLANDER</td>\n",
       "      <td>PHEV</td>\n",
       "      <td>22</td>\n",
       "      <td>34595</td>\n",
       "      <td>POINT (-122.26132099999998 47.390601)</td>\n",
       "      <td>47.390601</td>\n",
       "      <td>-122.261321</td>\n",
       "      <td>North</td>\n",
       "      <td>West</td>\n",
       "    </tr>\n",
       "    <tr>\n",
       "      <th>1</th>\n",
       "      <td>JN1AZ0CP7B</td>\n",
       "      <td>King</td>\n",
       "      <td>COVINGTON</td>\n",
       "      <td>98042</td>\n",
       "      <td>2011</td>\n",
       "      <td>NISSAN</td>\n",
       "      <td>LEAF</td>\n",
       "      <td>BEV</td>\n",
       "      <td>73</td>\n",
       "      <td>32780</td>\n",
       "      <td>POINT (-122.11667400000002 47.363112)</td>\n",
       "      <td>47.363112</td>\n",
       "      <td>-122.116674</td>\n",
       "      <td>North</td>\n",
       "      <td>West</td>\n",
       "    </tr>\n",
       "    <tr>\n",
       "      <th>2</th>\n",
       "      <td>1G1FW6S07H</td>\n",
       "      <td>Clark</td>\n",
       "      <td>CAMAS</td>\n",
       "      <td>98607</td>\n",
       "      <td>2017</td>\n",
       "      <td>CHEVROLET</td>\n",
       "      <td>BOLT</td>\n",
       "      <td>BEV</td>\n",
       "      <td>238</td>\n",
       "      <td>37495</td>\n",
       "      <td>POINT (-122.40849800000001 45.620943)</td>\n",
       "      <td>45.620943</td>\n",
       "      <td>-122.408498</td>\n",
       "      <td>South</td>\n",
       "      <td>West</td>\n",
       "    </tr>\n",
       "    <tr>\n",
       "      <th>3</th>\n",
       "      <td>1N4AZ0CP6D</td>\n",
       "      <td>King</td>\n",
       "      <td>SEATTLE</td>\n",
       "      <td>98117</td>\n",
       "      <td>2013</td>\n",
       "      <td>NISSAN</td>\n",
       "      <td>LEAF</td>\n",
       "      <td>BEV</td>\n",
       "      <td>75</td>\n",
       "      <td>28800</td>\n",
       "      <td>POINT (-122.379354 47.687571)</td>\n",
       "      <td>47.687571</td>\n",
       "      <td>-122.379354</td>\n",
       "      <td>North</td>\n",
       "      <td>West</td>\n",
       "    </tr>\n",
       "    <tr>\n",
       "      <th>4</th>\n",
       "      <td>JN1AZ0CP1B</td>\n",
       "      <td>Clark</td>\n",
       "      <td>CAMAS</td>\n",
       "      <td>98607</td>\n",
       "      <td>2011</td>\n",
       "      <td>NISSAN</td>\n",
       "      <td>LEAF</td>\n",
       "      <td>BEV</td>\n",
       "      <td>73</td>\n",
       "      <td>32780</td>\n",
       "      <td>POINT (-122.40849800000001 45.620943)</td>\n",
       "      <td>45.620943</td>\n",
       "      <td>-122.408498</td>\n",
       "      <td>South</td>\n",
       "      <td>West</td>\n",
       "    </tr>\n",
       "    <tr>\n",
       "      <th>...</th>\n",
       "      <td>...</td>\n",
       "      <td>...</td>\n",
       "      <td>...</td>\n",
       "      <td>...</td>\n",
       "      <td>...</td>\n",
       "      <td>...</td>\n",
       "      <td>...</td>\n",
       "      <td>...</td>\n",
       "      <td>...</td>\n",
       "      <td>...</td>\n",
       "      <td>...</td>\n",
       "      <td>...</td>\n",
       "      <td>...</td>\n",
       "      <td>...</td>\n",
       "      <td>...</td>\n",
       "    </tr>\n",
       "    <tr>\n",
       "      <th>60920</th>\n",
       "      <td>5YJ3E1EC7L</td>\n",
       "      <td>King</td>\n",
       "      <td>SEATTLE</td>\n",
       "      <td>98119</td>\n",
       "      <td>2020</td>\n",
       "      <td>TESLA</td>\n",
       "      <td>MODEL 3</td>\n",
       "      <td>BEV</td>\n",
       "      <td>308</td>\n",
       "      <td>0</td>\n",
       "      <td>POINT (-122.36772100000002 47.639264)</td>\n",
       "      <td>47.639264</td>\n",
       "      <td>-122.367721</td>\n",
       "      <td>North</td>\n",
       "      <td>West</td>\n",
       "    </tr>\n",
       "    <tr>\n",
       "      <th>60921</th>\n",
       "      <td>KNAGU4LE4K</td>\n",
       "      <td>Pierce</td>\n",
       "      <td>BONNEY LAKE</td>\n",
       "      <td>98391</td>\n",
       "      <td>2019</td>\n",
       "      <td>KIA</td>\n",
       "      <td>OPTIMA PLUG-IN HYBRID</td>\n",
       "      <td>PHEV</td>\n",
       "      <td>29</td>\n",
       "      <td>35390</td>\n",
       "      <td>POINT (-122.170798 47.184615)</td>\n",
       "      <td>47.184615</td>\n",
       "      <td>-122.170798</td>\n",
       "      <td>South</td>\n",
       "      <td>West</td>\n",
       "    </tr>\n",
       "    <tr>\n",
       "      <th>60922</th>\n",
       "      <td>1G1RA6E42C</td>\n",
       "      <td>San Juan</td>\n",
       "      <td>EASTSOUND</td>\n",
       "      <td>98245</td>\n",
       "      <td>2012</td>\n",
       "      <td>CHEVROLET</td>\n",
       "      <td>VOLT</td>\n",
       "      <td>PHEV</td>\n",
       "      <td>35</td>\n",
       "      <td>39145</td>\n",
       "      <td>POINT (-122.924946 48.657249)</td>\n",
       "      <td>48.657249</td>\n",
       "      <td>-122.924946</td>\n",
       "      <td>North</td>\n",
       "      <td>West</td>\n",
       "    </tr>\n",
       "    <tr>\n",
       "      <th>60923</th>\n",
       "      <td>WBY8P6C05L</td>\n",
       "      <td>King</td>\n",
       "      <td>SEATTLE</td>\n",
       "      <td>98122</td>\n",
       "      <td>2020</td>\n",
       "      <td>BMW</td>\n",
       "      <td>I3</td>\n",
       "      <td>BEV</td>\n",
       "      <td>153</td>\n",
       "      <td>0</td>\n",
       "      <td>POINT (-122.303413 47.61065)</td>\n",
       "      <td>47.610650</td>\n",
       "      <td>-122.303413</td>\n",
       "      <td>North</td>\n",
       "      <td>West</td>\n",
       "    </tr>\n",
       "    <tr>\n",
       "      <th>60924</th>\n",
       "      <td>JN1AZ0CP6B</td>\n",
       "      <td>Snohomish</td>\n",
       "      <td>EVERETT</td>\n",
       "      <td>98208</td>\n",
       "      <td>2011</td>\n",
       "      <td>NISSAN</td>\n",
       "      <td>LEAF</td>\n",
       "      <td>BEV</td>\n",
       "      <td>73</td>\n",
       "      <td>32780</td>\n",
       "      <td>POINT (-122.19615 47.894423)</td>\n",
       "      <td>47.894423</td>\n",
       "      <td>-122.196150</td>\n",
       "      <td>North</td>\n",
       "      <td>West</td>\n",
       "    </tr>\n",
       "  </tbody>\n",
       "</table>\n",
       "<p>60925 rows × 15 columns</p>\n",
       "</div>"
      ],
      "text/plain": [
       "              VIN     County         City    ZIP  Model_Year        Make  \\\n",
       "0      JA4J24A5XJ       King         KENT  98032        2018  MITSUBISHI   \n",
       "1      JN1AZ0CP7B       King    COVINGTON  98042        2011      NISSAN   \n",
       "2      1G1FW6S07H      Clark        CAMAS  98607        2017   CHEVROLET   \n",
       "3      1N4AZ0CP6D       King      SEATTLE  98117        2013      NISSAN   \n",
       "4      JN1AZ0CP1B      Clark        CAMAS  98607        2011      NISSAN   \n",
       "...           ...        ...          ...    ...         ...         ...   \n",
       "60920  5YJ3E1EC7L       King      SEATTLE  98119        2020       TESLA   \n",
       "60921  KNAGU4LE4K     Pierce  BONNEY LAKE  98391        2019         KIA   \n",
       "60922  1G1RA6E42C   San Juan    EASTSOUND  98245        2012   CHEVROLET   \n",
       "60923  WBY8P6C05L       King      SEATTLE  98122        2020         BMW   \n",
       "60924  JN1AZ0CP6B  Snohomish      EVERETT  98208        2011      NISSAN   \n",
       "\n",
       "                       Model EV_Type  Range   MSRP  \\\n",
       "0                  OUTLANDER    PHEV     22  34595   \n",
       "1                       LEAF     BEV     73  32780   \n",
       "2                       BOLT     BEV    238  37495   \n",
       "3                       LEAF     BEV     75  28800   \n",
       "4                       LEAF     BEV     73  32780   \n",
       "...                      ...     ...    ...    ...   \n",
       "60920                MODEL 3     BEV    308      0   \n",
       "60921  OPTIMA PLUG-IN HYBRID    PHEV     29  35390   \n",
       "60922                   VOLT    PHEV     35  39145   \n",
       "60923                     I3     BEV    153      0   \n",
       "60924                   LEAF     BEV     73  32780   \n",
       "\n",
       "                                    Location   Latitude   Longitude  \\\n",
       "0      POINT (-122.26132099999998 47.390601)  47.390601 -122.261321   \n",
       "1      POINT (-122.11667400000002 47.363112)  47.363112 -122.116674   \n",
       "2      POINT (-122.40849800000001 45.620943)  45.620943 -122.408498   \n",
       "3              POINT (-122.379354 47.687571)  47.687571 -122.379354   \n",
       "4      POINT (-122.40849800000001 45.620943)  45.620943 -122.408498   \n",
       "...                                      ...        ...         ...   \n",
       "60920  POINT (-122.36772100000002 47.639264)  47.639264 -122.367721   \n",
       "60921          POINT (-122.170798 47.184615)  47.184615 -122.170798   \n",
       "60922          POINT (-122.924946 48.657249)  48.657249 -122.924946   \n",
       "60923           POINT (-122.303413 47.61065)  47.610650 -122.303413   \n",
       "60924           POINT (-122.19615 47.894423)  47.894423 -122.196150   \n",
       "\n",
       "      North_South West_East  \n",
       "0           North      West  \n",
       "1           North      West  \n",
       "2           South      West  \n",
       "3           North      West  \n",
       "4           South      West  \n",
       "...           ...       ...  \n",
       "60920       North      West  \n",
       "60921       South      West  \n",
       "60922       North      West  \n",
       "60923       North      West  \n",
       "60924       North      West  \n",
       "\n",
       "[60925 rows x 15 columns]"
      ]
     },
     "execution_count": 5,
     "metadata": {},
     "output_type": "execute_result"
    }
   ],
   "source": [
    "import numpy as np\n",
    "import pandas as pd\n",
    "import matplotlib.pyplot as plt\n",
    "import seaborn as sns\n",
    "import sys, os\n",
    "sys.path.insert(0, os.path.abspath('..'))\n",
    "\n",
    "from scripts import project_functions\n",
    "csv = \"Electric_Vehicle_Population_Data.csv\"\n",
    "df = project_functions.load_and_process(csv)"
   ]
  },
  {
   "cell_type": "code",
   "execution_count": 6,
   "metadata": {},
   "outputs": [
    {
     "data": {
      "text/plain": [
       "<AxesSubplot:xlabel='Longitude', ylabel='Latitude'>"
      ]
     },
     "execution_count": 6,
     "metadata": {},
     "output_type": "execute_result"
    },
    {
     "data": {
      "image/png": "[encoded data removed]",
      "text/plain": [
       "<Figure size 432x288 with 1 Axes>"
      ]
     },
     "metadata": {
      "needs_background": "light"
     },
     "output_type": "display_data"
    }
   ],
   "source": [
    "df.plot(kind='scatter', x='Longitude', y='Latitude')"
   ]
  },
  {
   "cell_type": "code",
   "execution_count": 8,
   "metadata": {},
   "outputs": [
    {
     "data": {
      "text/plain": [
       "<AxesSubplot:xlabel='Longitude', ylabel='Latitude'>"
      ]
     },
     "execution_count": 8,
     "metadata": {},
     "output_type": "execute_result"
    },
    {
     "data": {
      "image/png": "[encoded data removed]",
      "text/plain": [
       "<Figure size 432x288 with 1 Axes>"
      ]
     },
     "metadata": {
      "needs_background": "light"
     },
     "output_type": "display_data"
    }
   ],
   "source": [
    "df.plot(kind='scatter', x='Longitude', y='Latitude')"
   ]
  },
  {
   "cell_type": "code",
   "execution_count": 13,
   "metadata": {},
   "outputs": [
    {
     "data": {
      "text/plain": [
       "<AxesSubplot:xlabel='count', ylabel='Make'>"
      ]
     },
     "execution_count": 13,
     "metadata": {},
     "output_type": "execute_result"
    },
    {
     "data": {
      "image/png": "[encoded data removed]",
      "text/plain": [
       "<Figure size 1440x432 with 1 Axes>"
      ]
     },
     "metadata": {
      "needs_background": "light"
     },
     "output_type": "display_data"
    }
   ],
   "source": [
    "sns.countplot(y = df[\"Make\"], data = df)"
   ]
  },
  {
   "cell_type": "code",
   "execution_count": 22,
   "metadata": {},
   "outputs": [
    {
     "data": {
      "image/png": "[encoded data removed]",
      "text/plain": [
       "<Figure size 504x504 with 6 Axes>"
      ]
     },
     "metadata": {
      "needs_background": "light"
     },
     "output_type": "display_data"
    }
   ],
   "source": [
    "hist = df.hist(bins=20,figsize =(7,7))"
   ]
  },
  {
   "cell_type": "code",
   "execution_count": null,
   "metadata": {},
   "outputs": [],
   "source": []
  }
 ],
 "metadata": {
  "kernelspec": {
   "display_name": "Python 3",
   "language": "python",
   "name": "python3"
  },
  "language_info": {
   "codemirror_mode": {
    "name": "ipython",
    "version": 3
   },
   "file_extension": ".py",
   "mimetype": "text/x-python",
   "name": "python",
   "nbconvert_exporter": "python",
   "pygments_lexer": "ipython3",
   "version": "3.8.6"
  }
 },
 "nbformat": 4,
 "nbformat_minor": 4
}
